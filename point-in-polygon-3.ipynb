{
 "cells": [
  {
   "cell_type": "markdown",
   "metadata": {},
   "source": [
    "<a href=\"https://colab.research.google.com/github/gisalgs/notebooks/blob/main/point-in-polygon-3.ipynb\">\n",
    "  <img src=\"https://colab.research.google.com/assets/colab-badge.svg\" alt=\"Open In Colab\"/>\n",
    "</a>\n",
    "\n",
    "# Point-in-polygon: the even-odd algorithm\n",
    "\n",
    "Point-in-polygon is a crucial operation when we handle spatial data. For example, if we click on a polygon in QGIS, we want to quickly pull out the data about this polygon (instead of waiting for a while before the data shows up). There are many ways to determine whether a point is in a polygon and we introduce the **even-odd algorithm** here. To determine if a point (such as one of the dots in following figure) is in a polygon, we first draw a half line that starts from the point and points to the right of the point. If the half line intersects with the polygon in an odd number of times, then we say the point is in the polygon. Otherwise the point is outside the polygon. \n",
    "\n",
    "<img width=350px src=\"figures/pip-1.png\"/>\n",
    "\n",
    "This seemingly simple algorithm, however, has many special cases that are tedious and must be addressed. For example, the half line *a* in the figure has a part of the polygon boundary on it and we will have to decide how many times the half lines intersects the polygon. Also, when a half line (e.g., *b* and *c*) goes through a vertex of the polygon, how many times should we count the intersection?\n",
    "\n",
    "The next consideration is the calculation of intersection points. Computing the physical intersection point, if any, is an expensive process -- it takes some time to do and it takes a lot of times if we have a lot of intersection points to compute. To understand this, we should remember the so called polygon in GIS has many line segments and we will have to test whether each of the line segments intersects with the half line. That sounds a lot. But the good news is: we don't have to get the physical intersection point for most of the cases. For many cases, we just need to make a quick decision whether the half line intersects with the boundary. We can illustrate this using the following figure. \n",
    "\n",
    "<img width=350px src=\"figures/pip-2.png\"/>\n",
    "\n",
    "In the above figure, it is clear that the half line (the one starts at point *A*) is not going to intersect with line segments *a*, *d*, and *e*. Line segment *c* crosses the half line, but we don't need to compute the intersection point --- we know for fact they will intersect because the two end points of *c* are on the different sides of the half line, and are to the right of point *A*. Taking out these cases, we only have one case left: line segments like *b* or *b'* where the two end points are on both sizes of the half line but one of the end point is to the left of point *A*. \n",
    "\n",
    "Then we need to consider a few **special cases**, when the point (dark dot below) is on one of the two ends of the line segment, or on a horizontal or vertical line.\n",
    "\n",
    "<img width=450px src=\"figures/point-in-polygon-special-cases.png\"/>\n",
    "\n",
    "In this tutorial, we are not going to discuss the details of calculating intersection of two line segments. Please refer to sections 2.5 and 2.6 in the *GIS Algorithms* book for those details. \n",
    "\n",
    "The even-odd algorithm for determining if a point is in a polygon is implemented as function `pip_cross` in [point_in_polygon.py](https://github.com/gisalgs/geom/blob/master/point_in_polygon.py). This code was adopted from the C program in Graphics Gems IV by Haines (1994). The code will raise an error if the polygon is not closed. \n"
   ]
  },
  {
   "cell_type": "markdown",
   "metadata": {},
   "source": [
    "We now import the code  and test the algorithm using some artificial data below. "
   ]
  },
  {
   "cell_type": "code",
   "execution_count": null,
   "metadata": {
    "scrolled": true,
    "tags": []
   },
   "outputs": [],
   "source": [
    "from geom.point import *\n",
    "from geom.point_in_polygon import *\n",
    "\n",
    "points1 = [ [0,10], [5,0], [10,10], [15,0], [20,10],\n",
    "           [25,0], [30,20], [40,20], [45,0], [60, 50], [50,50],\n",
    "           [40,40], [30,50], [25,20], [20,50], [15,10],\n",
    "           [10,50], [8, 8], [4,50], [0,10] ]\n",
    "polygon1 = [Point(p[0], p[1]) for p in points1]\n",
    "\n",
    "p1 = Point(10, 30)\n",
    "p2 = Point(10, 20)\n",
    "p3 = Point(20, 40)\n",
    "p4 = Point(5, 40)\n",
    "p5 = Point(35, 20)\n",
    "p6 = Point(55, 50)\n",
    "\n",
    "for p in [p1, p2, p3, p4, p5, p6]:\n",
    "    print(f'Point {p} is {\"IN\" if pip_cross(p, polygon1)[0] is True else \"OUT\"}')"
   ]
  },
  {
   "cell_type": "markdown",
   "metadata": {},
   "source": [
    "Below we will show a visual proof of the above results. Before we plot the figure, we need to import matplotlib first:"
   ]
  },
  {
   "cell_type": "code",
   "execution_count": null,
   "metadata": {},
   "outputs": [],
   "source": [
    "%matplotlib inline\n",
    "import matplotlib.pyplot as plt"
   ]
  },
  {
   "cell_type": "markdown",
   "metadata": {},
   "source": [
    "We also need a little function as a helper to translate True and False values to 1 and 0, respectively."
   ]
  },
  {
   "cell_type": "code",
   "execution_count": null,
   "metadata": {},
   "outputs": [],
   "source": [
    "# use this function to get 1 when result is True, 0 otherwise\n",
    "def in_or_out(pip_result):\n",
    "    if pip_result:\n",
    "        return 1\n",
    "    return 0"
   ]
  },
  {
   "cell_type": "markdown",
   "metadata": {},
   "source": [
    "We will use the above little function to automatically assign two colors: if the point is in then we make it blue, otherwise red (see the line starts with `colors` below."
   ]
  },
  {
   "cell_type": "code",
   "execution_count": null,
   "metadata": {},
   "outputs": [],
   "source": [
    "ax = plt.gca()\n",
    "line1 = [ [p.x, p.y] for p in polygon1 ]\n",
    "pg1 = plt.Polygon(line1, closed=True, fill=True, \n",
    "                  facecolor='#AAAAAA', edgecolor='grey', alpha=0.5)\n",
    "ax.add_patch(pg1)\n",
    "\n",
    "pts = [p1, p2, p3, p4, p5, p6]\n",
    "\n",
    "results = [in_or_out(pip_cross(p, polygon1)[0]) for p in pts] # do this without using in_or_out?\n",
    "\n",
    "colors = [['red', 'blue'][i] for i in results]\n",
    "\n",
    "l2 = plt.scatter([p.x for p in pts], [p.y for p in pts], color=colors, s=15)\n",
    "labels = ['p%s'%(i+1) for i in range(len(pts))]\n",
    "for i, p in enumerate(pts):\n",
    "    plt.text(p.x+1, p.y+1, labels[i], color=colors[i])\n",
    "  \n",
    "ax.set_aspect(1)\n",
    "plt.show()"
   ]
  },
  {
   "cell_type": "markdown",
   "metadata": {},
   "source": [
    "Note the above code assumes the polygon is properly closed. If we cannot guarantee, the actual code will be more tedious because we will have to use the try statement:"
   ]
  },
  {
   "cell_type": "code",
   "execution_count": null,
   "metadata": {},
   "outputs": [],
   "source": [
    "points2 = [ [0,10], [5,0], [10,10], [15,0], [20,10] ]\n",
    "polygon2 = [ [ Point(p[0], p[1]) for p in points2 ] ]\n",
    "\n",
    "try:\n",
    "    print(f'Point {p1} is {\"IN\" if pip_cross2(p1, polygon2)[0] is True else \"OUT\"}')\n",
    "except Exception as err:\n",
    "    print(err)"
   ]
  },
  {
   "cell_type": "markdown",
   "metadata": {},
   "source": [
    "## Case study: Polygon area using Monte Carlo simulation\n",
    "\n",
    "We are going to use what we have learned so far to do an experiment. \n",
    "\n",
    "First, let's make a triangle that has a minimal bounding box (envelope) defined as `[0, 10, 0, 10]`, which are the lower bound and upper bound of x, and that of y, respectively. "
   ]
  },
  {
   "cell_type": "code",
   "execution_count": null,
   "metadata": {},
   "outputs": [],
   "source": [
    "# TODO: create a triangle here. It will be a list of four Point objects, with the first and last being the same point.\n",
    "#       make sure its *minimum bounding box is [0, 10, 0, 10]\n",
    "#\n",
    "\n"
   ]
  },
  {
   "cell_type": "markdown",
   "metadata": {},
   "source": [
    "Make sure we can draw the triangle, along with its bounding box."
   ]
  },
  {
   "cell_type": "code",
   "execution_count": null,
   "metadata": {},
   "outputs": [],
   "source": [
    "# TODO: Draw triangle and bounding box here\n",
    "#\n",
    "\n"
   ]
  },
  {
   "cell_type": "markdown",
   "metadata": {},
   "source": [
    "Now we randomly generate 100 points."
   ]
  },
  {
   "cell_type": "code",
   "execution_count": null,
   "metadata": {},
   "outputs": [],
   "source": [
    "# TODO: generate 100 random points with the bounding box\n",
    "import random\n",
    "\n"
   ]
  },
  {
   "cell_type": "markdown",
   "metadata": {},
   "source": [
    "Count how many points are within the triangle."
   ]
  },
  {
   "cell_type": "code",
   "execution_count": null,
   "metadata": {},
   "outputs": [],
   "source": [
    "# TODO: count the number of points in the triangle\n",
    "\n"
   ]
  },
  {
   "cell_type": "markdown",
   "metadata": {},
   "source": [
    "Calculate the size of the triangle. Use the proportion of the points within the triangle and the size of the bounding box."
   ]
  },
  {
   "cell_type": "code",
   "execution_count": null,
   "metadata": {},
   "outputs": [],
   "source": [
    "# TODO: compute the size of the triangle\n",
    "\n"
   ]
  },
  {
   "cell_type": "code",
   "execution_count": null,
   "metadata": {},
   "outputs": [],
   "source": [
    "# TODO: draw the triangle, bounding box, and points\n",
    "#       points in the triangle are rendered blue\n",
    "#       points outside are red\n",
    "\n",
    "\n"
   ]
  },
  {
   "cell_type": "markdown",
   "metadata": {},
   "source": [
    "At this point, we should get a value that is supposed to be the size of the triangle. But this is just one estimation. If we do this again, we would get a different answer. If we repeat this process 100 times, each time we have an estimate of the size of the triangle and we can plot a histogram that should tell us a lot about the size of the triangle. We can calculate the mean of all the estimated sizes. We can also draw the points with the triangle to get some kind of visual proof. This experiment can go on (for example, we can use 1000 points instead of 100). This is generally what we mean by a Monte Carlo simulation. "
   ]
  },
  {
   "cell_type": "code",
   "execution_count": null,
   "metadata": {},
   "outputs": [],
   "source": [
    "# TODO: use a loop of 100 iterations to repeat the above process of \n",
    "#       generating 100 random points and estimate the triangle size. \n",
    "#       In every iteration, we will an estimate of the area.\n",
    "#       We put all the estimate in a list called areas\n",
    "\n",
    "areas = []\n",
    "\n"
   ]
  },
  {
   "cell_type": "markdown",
   "metadata": {},
   "source": [
    "When all is done (100 iterations and 100 areas), the list `areas` will have 100 values and we draw a histogram using the following code."
   ]
  },
  {
   "cell_type": "code",
   "execution_count": null,
   "metadata": {},
   "outputs": [],
   "source": [
    "ax = plt.gca()\n",
    "ax.hist(areas, 10, facecolor='grey', edgecolor='black', alpha=0.75)\n",
    "plt.show()"
   ]
  }
 ],
 "metadata": {
  "kernelspec": {
   "display_name": "Python 3 (ipykernel)",
   "language": "python",
   "name": "python3"
  },
  "language_info": {
   "codemirror_mode": {
    "name": "ipython",
    "version": 3
   },
   "file_extension": ".py",
   "mimetype": "text/x-python",
   "name": "python",
   "nbconvert_exporter": "python",
   "pygments_lexer": "ipython3",
   "version": "3.11.6"
  }
 },
 "nbformat": 4,
 "nbformat_minor": 4
}
