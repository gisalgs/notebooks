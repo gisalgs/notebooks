{
 "cells": [
  {
   "cell_type": "markdown",
   "id": "052ba062-c0f9-42b9-a1c4-29fa4ad59241",
   "metadata": {},
   "source": [
    "<a href=\"https://colab.research.google.com/github/gisalgs/notebooks/blob/main/POI-point-of-interest-case-study-colab.ipynb\">\n",
    "  <img src=\"https://colab.research.google.com/assets/colab-badge.svg\" alt=\"Open In Colab\"/>\n",
    "</a>\n",
    "\n",
    "# Case Study: Accessibility \n",
    "\n",
    "\n",
    "The City of Columbus has put together a collection of points of interest for different functional categories. This data can be viewed at their interactive website https://opendata.columbus.gov/datasets/columbus::points-of-interest/explore. The description of the data can be found at https://maps2.columbus.gov/arcgis/rest/services/Schemas/PointsOfInterest/MapServer/10. The raw geojson file has been posted at https://raw.githubusercontent.com/gisalgs/data/refs/heads/master/columbus_points_of_interest.geojson. We will use this geojson file in this tutorial.\n",
    "\n",
    "The goal of this tutorial is to demonstrate the use of Python for spatial data analysis. More specifically, we will examine how residents in Franklin county can access some of the services represented in this data set. Here, we must realize that the data is incomplete because it may not fully cover areas outside the city of Columbus and some points of interest may not be included in the data either. The main purpose is the demonstrate the use of data and Python coding to analyze accessibility. \n",
    "\n",
    "Most of the code is not directly shown in the original tutorial. The associated video (from the in-class demo) will have a walk-through of most of the processes. After finishing this tutorial, students should answer the following questions (with code):\n",
    "\n",
    "1. How many types of points of interest are represented in the data and how many instances are there in each type?\n",
    "2. Where are the POIs distributed on a map? \n",
    "3. If we redistribute the population of Franklin County evenly into cells in each census block group, who does the population distribution look like on the map?\n",
    "4. How accessibility to a certain service (medical) looks like on the map?\n",
    "5. What are the shortcomings of the analysis presented in this tutorial?\n",
    "\n",
    "\n",
    "## Accessibility: a very short introduction\n",
    "\n",
    "We will use this data to compute the accessibility to various services and we will use health as an example. Accessibility is a big topic and we will focus on a particular approach called the two-step floating catchment area (2SFCA) method (Luo and Wang 2003). Let's assume we want to compute the accessibility at location $i$ to various services provided at locations denoted as $j$. We call $i$ the demand location and $j$ the supply location. The first step is to compute the supply to demand ratio at each supply location $j$ as follows:\n",
    "\n",
    "$R_j = \\Large\\frac{S_j}{\\sum_{k \\in (d_{jk} < d_0)} D_k}$\n",
    "\n",
    "where $R_j$ is the ratio, $S_j$ is the capacity of the supply at location $j$, $d_{kj}$ is the demand from location $k$ that require supply from $j$, and $d_0$ is a distance buffer that defines the catchment of supply $j$. We use $(d_{jk} < d_0)$ to a set of locations ($k$) whose distance to $j$ is smaller than $d_0$. We can replace this set with any set that can be used to define the catchment and therefore the catchment doesn't have to be a circular buffer but can be of any shape. The above equation basically counts all the demand within the catchment (defined by a radius of $d_0$) and split the supply among them. Here, the demand is weighted equally regardless of how far it is from the supply. It is reasonable, as many researchers have done so, to further weight the demand by some kind of  impedance function (e.g., distance decay function). This, however, is dependent on the actual demand and supply. \n",
    "\n",
    "The second step, now that we have worked out the supply side, is to actually compute the accessibility at the demand side by simply add up all the supply to demand ratios that are within the catchment radius of the demand location:\n",
    "\n",
    "$\\Large A_i = \\sum_{j\\in (d_{ij}<d_0)}{R_j}$\n",
    "\n",
    "where $A_i$ is the accessibility at demand $i$ and we use $(d_{ij} < d_0)$ to denote the supply locations ($j$) that are within the distance of $d_0$. \n",
    "\n",
    "In an application, we have many demand locations to calculate and we will \"float\" this calculation over the space so that we get the accessibility measure of all the locations of our interest. \n",
    "\n",
    "**Work cited**\n",
    "\n",
    "Luo, W., & Wang, F. (2003). Measures of spatial accessibility to health care in a GIS environment: synthesis and a case study in the Chicago region. Environment and planning B: planning and design, 30(6), 865-884."
   ]
  },
  {
   "cell_type": "code",
   "execution_count": null,
   "id": "21630c26-0e89-4a09-89e9-3c597e598810",
   "metadata": {},
   "outputs": [],
   "source": [
    "!rm -rf geom\n",
    "!git clone https://github.com/gisalgs/geom.git"
   ]
  },
  {
   "cell_type": "code",
   "execution_count": null,
   "id": "4a511f84-724e-43cb-971d-621556333c75",
   "metadata": {},
   "outputs": [],
   "source": [
    "import urllib.request as request\n",
    "import json "
   ]
  },
  {
   "cell_type": "code",
   "execution_count": null,
   "id": "1958fa10-4de1-4446-b1d3-ceeba1dbb7de",
   "metadata": {},
   "outputs": [],
   "source": [
    "url = 'https://raw.githubusercontent.com/gisalgs/data/refs/heads/master/columbus_points_of_interest.geojson'\n",
    "with request.urlopen(url) as response:\n",
    "    poi = json.loads(response.read())\n",
    "\n",
    "len(poi['features'])"
   ]
  },
  {
   "cell_type": "code",
   "execution_count": null,
   "id": "5dcbd76d-93d1-4f9d-a275-e35e74600287",
   "metadata": {},
   "outputs": [],
   "source": [
    "url = 'https://raw.githubusercontent.com/gisalgs/data/refs/heads/master/blockgrps_pop_franklin_2.geojson'\n",
    "with request.urlopen(url) as response:\n",
    "    blkgrps = json.loads(response.read())\n",
    "\n",
    "len(blkgrps['features'])"
   ]
  },
  {
   "cell_type": "code",
   "execution_count": null,
   "id": "6854c136-744b-468d-99c0-47122f0e1144",
   "metadata": {},
   "outputs": [],
   "source": [
    "blkgrps['features'][0]['properties'].keys()"
   ]
  },
  {
   "cell_type": "code",
   "execution_count": null,
   "id": "4ba4e9c4-db58-42ec-9f42-3b62fc104165",
   "metadata": {},
   "outputs": [],
   "source": [
    "# check how many are multiplygons -- all of them!\n",
    "\n",
    "sum([f['geometry']['type'] == 'MultiPolygon' for f in blkgrps['features']])"
   ]
  },
  {
   "cell_type": "code",
   "execution_count": null,
   "id": "bb0ffc0f-06e5-4356-9047-27bbb2caa374",
   "metadata": {},
   "outputs": [],
   "source": [
    "# How many have multiple parts\n",
    "\n",
    "# there are two \n",
    "\n",
    "sum([len(f['geometry']['coordinates'])>1 for f in blkgrps['features']])"
   ]
  },
  {
   "cell_type": "code",
   "execution_count": null,
   "id": "e785e809-1db4-46db-bd77-61455917c6ee",
   "metadata": {},
   "outputs": [],
   "source": [
    "# holes?\n",
    "\n",
    "# How many have holes -- forget about the two with multiple parts\n",
    "\n",
    "# there is one\n",
    "\n",
    "sum([len(f['geometry']['coordinates'][0])>1 for f in blkgrps['features']])"
   ]
  },
  {
   "cell_type": "code",
   "execution_count": null,
   "id": "0c121508-3b0c-4043-af73-803b5356fa01",
   "metadata": {},
   "outputs": [],
   "source": [
    "for f in blkgrps['features']:\n",
    "    if len(f['geometry']['coordinates'][0])>1:\n",
    "        print(f['properties']['TRACT'], f['properties']['BLKGRP'])"
   ]
  },
  {
   "cell_type": "markdown",
   "id": "c304244c-74d3-469c-bc8f-c4fab1e3f55a",
   "metadata": {},
   "source": [
    "Explore the types of geometry in the POI data."
   ]
  },
  {
   "cell_type": "code",
   "execution_count": null,
   "id": "d24510e1-68bb-4b3d-b97f-66feb188e12f",
   "metadata": {},
   "outputs": [],
   "source": [
    "geom_types = []\n",
    "for p in poi['features']:\n",
    "    t = p['geometry']['type']\n",
    "    if t not in geom_types:\n",
    "        geom_types.append(t)\n",
    "\n",
    "geom_types"
   ]
  },
  {
   "cell_type": "markdown",
   "id": "074878fc-f775-478c-9449-fe4ee81c1e05",
   "metadata": {},
   "source": [
    "Now we know all the features are of the same type: Point. Let's know explore the attributes a little bit before we draw the map."
   ]
  },
  {
   "cell_type": "code",
   "execution_count": null,
   "id": "e0063a81-2493-47ba-8363-5d92a7c10373",
   "metadata": {},
   "outputs": [],
   "source": [
    "p['properties']"
   ]
  },
  {
   "cell_type": "code",
   "execution_count": null,
   "id": "c4306f23-bc6b-4924-bcc8-61e9acd0de29",
   "metadata": {},
   "outputs": [],
   "source": [
    "poi_types = {}\n",
    "for p in poi['features']:\n",
    "    t = p['properties']['POI_TYPE']\n",
    "    if t not in poi_types:\n",
    "        poi_types[t] = 1\n",
    "    else:\n",
    "        poi_types[t] += 1\n",
    "\n",
    "poi_types"
   ]
  },
  {
   "cell_type": "code",
   "execution_count": null,
   "id": "14444385-e155-43bc-aff2-a2a26f0d065a",
   "metadata": {},
   "outputs": [],
   "source": []
  }
 ],
 "metadata": {
  "kernelspec": {
   "display_name": "Python 3 (ipykernel)",
   "language": "python",
   "name": "python3"
  },
  "language_info": {
   "codemirror_mode": {
    "name": "ipython",
    "version": 3
   },
   "file_extension": ".py",
   "mimetype": "text/x-python",
   "name": "python",
   "nbconvert_exporter": "python",
   "pygments_lexer": "ipython3",
   "version": "3.13.0"
  }
 },
 "nbformat": 4,
 "nbformat_minor": 5
}
