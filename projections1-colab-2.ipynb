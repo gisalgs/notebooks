{
 "cells": [
  {
   "cell_type": "markdown",
   "metadata": {},
   "source": [
    "<a href=\"https://colab.research.google.com/github/gisalgs/notebooks/blob/main/projections1-colab-2.ipynb\">\n",
    "  <img src=\"https://colab.research.google.com/assets/colab-badge.svg\" alt=\"Open In Colab\"/>\n",
    "</a>\n",
    "\n",
    "# Map Projections (Halloween Edition)\n",
    "\n",
    "<img width=555px src=\"figures/halloween-hall-of-fame.png\"/>\n",
    "\n",
    "The goal of a map projection is to transform points in a spherical coordinate system onto a two dimensional Cartesian coordinate system. In other words, points on earth surface that are measured in longitude ($\\lambda$) and latitude ($\\varphi$) pairs become points on a two dimensional plane measured as horizontal ($x$) and vertical ($y$) coordinates. We can imagine there are functions that takes in the longitude and latitude of a point and returns the X and Y coordinates:\n",
    "\n",
    "$x = f(\\lambda, \\varphi)$  \n",
    "$y = f(\\lambda, \\varphi)$\n",
    "\n",
    "A straightforward transformation from a mathematical perspective is the special case of the **equirectangular** projection that basically does not do anything other than just use the longitude as the X coordinate, and latitude as Y:\n",
    "\n",
    "$x = \\lambda$  \n",
    "$y = \\varphi$\n",
    "\n",
    "## Data preparation\n",
    "\n",
    "To see how any projection actually looks like, we will need the appropriate data sets to begin with. Specifically we need two kinds of data here, the world coast lines and the graticule:\n",
    "\n",
    "* The world coast lines from Natural Earth, in two formats:\n",
    "    * A shapefile that is compressed as a tar.gz file at the [Github site](https://github.com/gisalgs/data/blob/master/ne_110m_coastline.tar.gz) (need to uncompress it after downloading).\n",
    "    * A GeoJSON file at the [Github site](https://github.com/gisalgs/data/blob/master/ne_110m_coastline.geojson). Click on the Raw button to save the file or directly download it at https://raw.githubusercontent.com/gisalgs/data/master/ne_110m_coastline.geojson.\n",
    "    * Both file formats can be useful on local computers. However, the GeoJSON is also suitable for online notebooks and can be used without being downloaded to local computers as well. This is also a place to re-enforce the difference between the two formats and appreciate why GeoJSON has picked so much popularity lately. Clicking on [this link](https://github.com/gisalgs/data/blob/master/ne_110m_coastline.geojson) allows us to see immediately rendering of the spatial data in the GeoJSON file, which is made possible by a lot of reasons but first reason being everything in the spatial data is encoded in ONE place/file and in plain text. This enables the file to be read and processed easily in different programming languages. [Here](https://github.com/gisalgs/data/blob/master/uscnty48area.geojson) is another example of GeoJSON using the counties data. But shapefile, unfortunately, is not designed in this way, which is understandable given how old this one is, because it has multiples file encoded in binary code that must be specially decoded.\n",
    "* The graticule is a geojson file that can be downloaded at https://raw.githubusercontent.com/gisalgs/data/refs/heads/master/graticule.geojson. Wew will also discuss how this file is generated, as a way to review geojson.\n",
    "\n",
    "> **Terminology:** The term graticule is commonly used in cartography, referring to the network formed by the lines of latitudes and longitudes, or parallels and meridians. Sometimes people use the term grid for this purpose, but we as geospatial professionals should know better: lines that form a grid are not necessarily parallels and meridians. We can use any lines to make up a grid.\n",
    "\n",
    "\n",
    "### Data structure\n",
    "\n",
    "First, let's decide on how we want our data to be organized. While there are many ways to do this, the bottom line for an projection is that we must be able to change the coordinates of each point from one system to another. There is not way this can be avoid. For this reason, we will literally store each point individually. Along with the point's coordinates, we also give it a unique number that indicates which line this point belongs to. For example, we make sure `[12, -83, 40]` is the point that is on a line with an ID of 12, and the coordinates of the point is -83, 40 (sounds familiar?). We will then put all the points in this way, in a list. In other words, here is how we encode each point here:\n",
    "\n",
    "```\n",
    "[ID, X, Y]\n",
    "```\n",
    "\n",
    "### Getting the graticule\n",
    "\n",
    "The following code creates a geojson file for the graticule. This is included here just for our references. This file is also uploaded to the github at [here](https://github.com/gisalgs/data/blob/master/graticule.geojson) and we will use the online file instead of the local in this tutorial."
   ]
  },
  {
   "cell_type": "code",
   "execution_count": null,
   "metadata": {},
   "outputs": [],
   "source": [
    "# make a dataset in geojson for the graticule\n",
    "\n",
    "linenum = 0\n",
    "lat0, lat1 = -90, 91    # start and end latitudes (south and north poles)\n",
    "lon0, lon1 = -180, 181  # range of longitudes\n",
    "\n",
    "graticule = {\n",
    "    \"type\": \"FeatureCollection\",\n",
    "    \"features\": []\n",
    "}\n",
    "\n",
    "# points on the parallels\n",
    "for lat in range(lat0, lat1, 10):\n",
    "    f = {\n",
    "        'type': 'Feature',\n",
    "        'geometry': {\n",
    "            'type': 'LineString',\n",
    "            'coordinates': []\n",
    "        }\n",
    "    }\n",
    "    for lon in range(lon0, lon1, 10):\n",
    "        f['geometry']['coordinates'].append([lon, lat])\n",
    "    f['id'] = linenum\n",
    "    graticule['features'].append(f)\n",
    "    linenum += 1\n",
    "\n",
    "for lon in range(lon0, lon1, 10):\n",
    "    f = {\n",
    "        'type': 'Feature',\n",
    "        'geometry': {\n",
    "            'type': 'LineString',\n",
    "            'coordinates': []\n",
    "        }\n",
    "    }\n",
    "    for lat in range(lat0, lat1, 10):\n",
    "        f['geometry']['coordinates'].append([lon, lat])\n",
    "    f['id'] = linenum\n",
    "    graticule['features'].append(f)\n",
    "    linenum += 1\n",
    "\n",
    "import json\n",
    "with open('graticule.geojson', 'w') as f:\n",
    "    json.dump(graticule, f)"
   ]
  },
  {
   "cell_type": "markdown",
   "metadata": {},
   "source": [
    "Here, we directly load the online GeoJSON file into our program. To do this, we need to import a couple of modules. The first module (urllib) is a powerful tool designed to scrap information from online sources. The second is the json module that provides tremendous convenience to handle JSON data in general in Python programs.\n",
    "\n",
    "We will use the `with` statement in Python. When we read data from a file (online or not), something special happens: the bits in the file will be continuously read from the file into the computer memory. We don't call it streaming, but it is close. During the process, we want to make sure the file keeps open so we can continue to read (or write if applicable) the stuff. The `with` statement does just that: it makes sure we can continue to hold the file for reading and writing, and it will release the resource (i.e., file) when we are done. In Python, a `with` statement uses a colon to specific the code that will handle the file. When we exit the code block (i.e., un-indent) the resource is released, meaning other programs can use it. \n",
    "\n",
    "The use of `request.urlopen` returns an object of a class called [HTTPResponse](https://docs.python.org/3.3/library/http.client.html#httpresponse-objects) that gives us a handle to deal with the HTTP response from an online service. HTTP stands for Hypertext Transfer Protocol, a foundation on which the entire Web is built. For our case, it allows us to read data from the online source. \n",
    "\n",
    "When we read things from a web page (note the GeoJSON file is treated as a web page as everything on the web because of its URL), we get a string. The easiest and quickest way to convert a string into an actual JSON object or Python dictionary is to use the `loads` method from the `json` module. This directly returns an object that can be immediately used -- it is a dictionary."
   ]
  },
  {
   "cell_type": "code",
   "execution_count": null,
   "metadata": {},
   "outputs": [],
   "source": [
    "import urllib.request as request\n",
    "import json "
   ]
  },
  {
   "cell_type": "markdown",
   "metadata": {},
   "source": [
    "Clicking on the **raw** button on the github page at [here](https://raw.githubusercontent.com/gisalgs/data/refs/heads/master/graticule.geojson) will lead to the text file and we can copy the URL of that page as the source of our online data. The following code shows the URL and how to load it into our program:"
   ]
  },
  {
   "cell_type": "code",
   "execution_count": null,
   "metadata": {},
   "outputs": [],
   "source": [
    "url = 'https://raw.githubusercontent.com/gisalgs/data/refs/heads/master/graticule.geojson'\n",
    "with request.urlopen(url) as response:\n",
    "    graticule_obj = json.loads(response.read())"
   ]
  },
  {
   "cell_type": "markdown",
   "metadata": {},
   "source": [
    "We can check out a few things such as the keys and how many features (lines) in the data:"
   ]
  },
  {
   "cell_type": "code",
   "execution_count": null,
   "metadata": {},
   "outputs": [],
   "source": [
    "graticule_obj.keys()"
   ]
  },
  {
   "cell_type": "code",
   "execution_count": null,
   "metadata": {},
   "outputs": [],
   "source": [
    "len(graticule_obj['features'])"
   ]
  },
  {
   "cell_type": "markdown",
   "metadata": {},
   "source": [
    "Now, we go through every point and put them in a list called `raw_points` using the structure mentioned above: each item in the list is a list of three values `[ID, X, Y]`."
   ]
  },
  {
   "cell_type": "code",
   "execution_count": null,
   "metadata": {},
   "outputs": [],
   "source": [
    "raw_points = []\n",
    "linenum = 0\n",
    "for f in graticule_obj['features']:\n",
    "    geom = f['geometry']['coordinates']\n",
    "    for p in geom:\n",
    "        raw_points.append([linenum, p[0], p[1]])\n",
    "    linenum += 1"
   ]
  },
  {
   "cell_type": "markdown",
   "metadata": {},
   "source": [
    "The last two points in the graticule, as we set it, will be the two points on the meridian 180 for latitudes 80 and 90. "
   ]
  },
  {
   "cell_type": "code",
   "execution_count": null,
   "metadata": {
    "tags": []
   },
   "outputs": [],
   "source": [
    "raw_points[-2], raw_points[-1]"
   ]
  },
  {
   "cell_type": "markdown",
   "metadata": {},
   "source": [
    "We make sure to keep the number of lines on the graticule because we will render them differently than other lines."
   ]
  },
  {
   "cell_type": "code",
   "execution_count": null,
   "metadata": {
    "tags": []
   },
   "outputs": [],
   "source": [
    "numgraticule = linenum"
   ]
  },
  {
   "cell_type": "markdown",
   "metadata": {},
   "source": [
    "### Getting the coastlines\n",
    "\n",
    "The next step is to read the coastal line data from the online file. We will continue to add points to the list `raw_points`."
   ]
  },
  {
   "cell_type": "code",
   "execution_count": null,
   "metadata": {
    "tags": []
   },
   "outputs": [],
   "source": [
    "url = 'https://raw.githubusercontent.com/gisalgs/data/master/ne_110m_coastline.geojson'\n",
    "\n",
    "# TODO:\n",
    "#   Read the geojson file from the above url using \n",
    "#   Load everything into a variable called coastline_obj\n",
    "#   Code here:\n"
   ]
  },
  {
   "cell_type": "markdown",
   "metadata": {},
   "source": [
    "The keys in this dictionary includes the ones we have seen before."
   ]
  },
  {
   "cell_type": "code",
   "execution_count": null,
   "metadata": {
    "tags": []
   },
   "outputs": [],
   "source": [
    "coastline_obj.keys()"
   ]
  },
  {
   "cell_type": "code",
   "execution_count": null,
   "metadata": {},
   "outputs": [],
   "source": [
    "coastline_obj['crs']"
   ]
  },
  {
   "cell_type": "markdown",
   "metadata": {},
   "source": [
    "We can see how many features in the GeoJSON:"
   ]
  },
  {
   "cell_type": "code",
   "execution_count": null,
   "metadata": {
    "tags": []
   },
   "outputs": [],
   "source": [
    "len(coastline_obj['features'])"
   ]
  },
  {
   "cell_type": "markdown",
   "metadata": {},
   "source": [
    "There are 134 lines in the file and we can get each of the features like this:"
   ]
  },
  {
   "cell_type": "code",
   "execution_count": null,
   "metadata": {
    "tags": []
   },
   "outputs": [],
   "source": [
    "f = coastline_obj['features'][0]\n",
    "f['properties']"
   ]
  },
  {
   "cell_type": "markdown",
   "metadata": {},
   "source": [
    "Based on this, we can retrieve every point from each of the features and continue to create the list of `[ID, X, Y]` like we did for the lines in the graticule, and append them to the list `raw_points`:"
   ]
  },
  {
   "cell_type": "code",
   "execution_count": null,
   "metadata": {
    "tags": []
   },
   "outputs": [],
   "source": [
    "for f in coastline_obj['features']:\n",
    "    geom = f['geometry']['coordinates']\n",
    "    for p in geom[0]:\n",
    "        raw_points.append([linenum, p[0], p[1]])\n",
    "    linenum += 1\n",
    "    \n",
    "numline = linenum"
   ]
  },
  {
   "cell_type": "markdown",
   "metadata": {},
   "source": [
    "At the end, putting everything together, there should be 6534 points and 190 lines, where 56 lines are in the graticule and the 134 lines from the coastlines."
   ]
  },
  {
   "cell_type": "code",
   "execution_count": null,
   "metadata": {
    "tags": []
   },
   "outputs": [],
   "source": [
    "print(len(raw_points), numgraticule, linenum)\n",
    "print(raw_points[0])\n",
    "print(raw_points[3000])"
   ]
  },
  {
   "cell_type": "markdown",
   "metadata": {},
   "source": [
    "### Drawing the world map\n",
    "\n",
    "With everything we have so far, we can draw a world map. Note what we have here in coordinates are latitudes and longitudes, and we normally refer to such a map or data as \"unprojected.\" We will have more discussion on this later. Right now, we can treat them as the \"original\" data that haven't been projected to a Cartesian coordinate system with meaningful distance. The \"meaningful distance\" part is critical here: distances should not be just numbers, but useful units as well so we know from one point to another is how many miles, kilometers, or other units. Using lat and long cannot give us such meaning to attach to a number for a distance measure.\n",
    "\n",
    "Nevertheless, we have the coordinates and they are numbers, which are as good as any other numbers in terms of drawing them. In order to make it more convenient, we write a function to draw the points:"
   ]
  },
  {
   "cell_type": "code",
   "execution_count": null,
   "metadata": {
    "tags": []
   },
   "outputs": [],
   "source": [
    "def plot_world(ax, points, numgraticule, numline, color=None):\n",
    "    '''\n",
    "    Uses the data prepared by worlmap.py to plot the world map.\n",
    "    \n",
    "    Input: \n",
    "        ax:             matplotlib axes\n",
    "        points:         a list of [ [ID, X, Y], [ID, X, Y], ...]\n",
    "        numgraticule:   the number of lines forming the graticule\n",
    "        numline:        the total number of line IDs\n",
    "        color:          if not None, the color used to draw coastlines (default: #5a5a5a)\n",
    "\n",
    "    The user needs to import matplotlib.pyplot first and run plt.show() after calling this function.\n",
    "    '''\n",
    "\n",
    "    for i in range(numline):\n",
    "        if i<numgraticule:\n",
    "            col = 'lightgrey'\n",
    "        else:\n",
    "            col = '#5a5a5a'\n",
    "            if color is not None:\n",
    "                col = color\n",
    "        pts = [[p[1], p[2]] for p in points if p[0]==i]\n",
    "        l = plt.Polygon(pts, color=col, fill=False, closed=False)\n",
    "        ax.add_patch(l)\n",
    "\n",
    "    ax.axis('equal')                       # x and y one the same scale\n",
    "    ax.axes.get_xaxis().set_visible(False)  # don't show axis\n",
    "    ax.axes.get_yaxis().set_visible(False)  # don't show axis\n",
    "    ax.set_frame_on(False)                  # no frame either"
   ]
  },
  {
   "cell_type": "markdown",
   "metadata": {},
   "source": [
    "The function takes the matplotlib axes and three more required parameters we have prepared already: all the points in a list, the number of lines in the graticule, and the total number of lines. We also have an option to specify the color for the coastlines but we can just take the default (that is some kind of dark grey). We need to import the matplotlib."
   ]
  },
  {
   "cell_type": "code",
   "execution_count": null,
   "metadata": {
    "tags": []
   },
   "outputs": [],
   "source": [
    "%matplotlib inline\n",
    "import matplotlib.pyplot as plt"
   ]
  },
  {
   "cell_type": "code",
   "execution_count": null,
   "metadata": {
    "tags": []
   },
   "outputs": [],
   "source": [
    "_, ax = plt.subplots()\n",
    "plot_world(ax, raw_points, numgraticule, numline)\n",
    "plt.show()"
   ]
  },
  {
   "cell_type": "markdown",
   "metadata": {},
   "source": [
    "## Github modules\n",
    "\n",
    "We actually have saved the `plot_world` function in a .py file in the `geom` module in a file called [plot_worldmap.py](https://github.com/gisalgs/geom/blob/master/plot_worldmap.py). To install the geom module, we can first delete it using the command `rm` and the redo `git clone` as follows:"
   ]
  },
  {
   "cell_type": "code",
   "execution_count": null,
   "metadata": {
    "tags": []
   },
   "outputs": [],
   "source": [
    "!rm geom -rf\n",
    "!git clone https://github.com/gisalgs/geom.git "
   ]
  },
  {
   "cell_type": "code",
   "execution_count": null,
   "metadata": {
    "tags": []
   },
   "outputs": [],
   "source": [
    "from geom.plot_worldmap import *"
   ]
  },
  {
   "cell_type": "code",
   "execution_count": null,
   "metadata": {
    "tags": []
   },
   "outputs": [],
   "source": [
    "_, ax = plt.subplots(1, 1)\n",
    "plot_world(ax, raw_points, numgraticule, numline)\n",
    "plt.show()"
   ]
  },
  {
   "cell_type": "markdown",
   "metadata": {},
   "source": [
    "## Equirectangular projection\n",
    "\n",
    "The equirectangular projection can be formulated as follows:\n",
    "\n",
    "$x = \\lambda \\cos(\\varphi_0)$  \n",
    "$y = \\varphi$\n",
    "\n",
    "where $\\varphi_0$ is the standard latitude or standard parallel that determines the overall width of the projected map. The special case we just saw at the beginning of today's note can be obtained by simply setting $\\varphi_0$ to 0 (the equator). \n",
    "\n",
    "This all looks straightforward. But there is a caveat here. It should be noted that the lat/lon values we use are typically in **degrees** (as in 0 to 360 degrees for a full circle), but the trigonometric functions in Python will use **radians** (as in 0 to 2$\\pi$) as the unit for angles, where 180 degree is equivalent to $\\pi$. We will need to convert them, which can be done by importing the function called `radians` from the `math` module."
   ]
  },
  {
   "cell_type": "code",
   "execution_count": null,
   "metadata": {
    "tags": []
   },
   "outputs": [],
   "source": [
    "from math import sin, cos, radians, pi\n",
    "print(sin(pi/2.0))\n",
    "print(cos(pi/2.0))\n",
    "print(pi)\n",
    "print(radians(360))\n",
    "print(radians(180))\n",
    "print(radians(45))\n",
    "print(cos(radians(90)))\n",
    "print(cos(radians(360)))"
   ]
  },
  {
   "cell_type": "markdown",
   "metadata": {},
   "source": [
    "The Python code to make the above transformation for the equirectangular projection is listed below. \n",
    "\n",
    "```python\n",
    "def transform_equirectangular(lon, lat, lat0=0):\n",
    "    x = lon * cos(radians(lat0))\n",
    "    y = lat\n",
    "    return x, y\n",
    "```\n",
    "\n",
    "The complete code of this is also stored at gisalgs Github in [transforms.py](https://github.com/gisalgs/geom/blob/master/transforms.py). This python file also contains another function that will soon be used. We will again download this and save it into our **geom** folder. \n",
    "\n",
    "We can test this transformation function using the lon and lat of Columbus as an example."
   ]
  },
  {
   "cell_type": "code",
   "execution_count": null,
   "metadata": {
    "tags": []
   },
   "outputs": [],
   "source": [
    "from geom.transforms import transform_equirectangular\n",
    "print(transform_equirectangular(-83, 40))"
   ]
  },
  {
   "cell_type": "markdown",
   "metadata": {},
   "source": [
    "Now we project the original data (in `raw_points`) into a new projection. This has to be done point by point:"
   ]
  },
  {
   "cell_type": "code",
   "execution_count": null,
   "metadata": {
    "scrolled": true,
    "tags": []
   },
   "outputs": [],
   "source": [
    "from geom.transforms import transform_equirectangular\n",
    "\n",
    "points=[]\n",
    "for p in raw_points:\n",
    "    p1 = transform_equirectangular(p[1], p[2])\n",
    "    points.append([p[0], p1[0], p1[1]])"
   ]
  },
  {
   "cell_type": "markdown",
   "metadata": {},
   "source": [
    "Drawing the new points is simple. Note that we use `points` instead of `raw_points` below:"
   ]
  },
  {
   "cell_type": "code",
   "execution_count": null,
   "metadata": {
    "tags": []
   },
   "outputs": [],
   "source": [
    "_, ax = plt.subplots(1, 1)\n",
    "plot_world(ax, points, numgraticule, numline)\n",
    "plt.show()"
   ]
  },
  {
   "cell_type": "markdown",
   "metadata": {},
   "source": [
    "So this is what happens: the plotting of the \"raw\" data (i.e., lat/lon) looks exactly the same as the projected data. This shouldn't be a surprise: the projected coordinates are indeed as same as the raw data in the special case when $\\phi_0$ is set to 0, which is the default value of the transformation function `transform_equirectangular`. Given how the projection looks, there is a good reason to call this **equirectangular** projection. The equirectangular projection apparently tends to **distort** the area, especially when we move always from the standard parallels. It should be noted that the equirectangular projection does not always produce squires as shown above (see questions below for more detail).\n"
   ]
  },
  {
   "cell_type": "code",
   "execution_count": null,
   "metadata": {
    "tags": []
   },
   "outputs": [],
   "source": [
    "# TODO:\n",
    "#   Project the world map using the transform_equirectangular function where lat0 is set to 60.\n",
    "#   code here:\n",
    "\n"
   ]
  },
  {
   "cell_type": "code",
   "execution_count": null,
   "metadata": {},
   "outputs": [],
   "source": [
    "# TODO\n",
    "#    explain below why the above map is only a half of the width as when `lat0` is the default value?\n",
    "#    You can use write your explanation below in the docstring:\n",
    "\n",
    "\n",
    "\n",
    "\n"
   ]
  },
  {
   "cell_type": "markdown",
   "metadata": {},
   "source": [
    "## Sinusoidal projection\n",
    "\n",
    "There are projections that do not distort size and the [**sinusoidal** projection](https://en.wikipedia.org/wiki/Sinusoidal_projection) is one of them. The equations for the sinusoidal projection are also simple:\n",
    "\n",
    "$x = (\\lambda - \\lambda_0) \\cos(\\varphi)$<br/>\n",
    "$y = \\varphi$\n",
    "\n",
    "where $\\lambda_0$ is central meridian. Because the use of $\\cos(\\varphi)$, the length of parallels will become zero when $\\varphi$ reaches 90 (poles), which forces the convergence of the meridians and therefore preserve the area. Here is the Python function that does the transformation:\n",
    "\n",
    "```python\n",
    "def transform_sinusoidal(lon, lat, lon0=0):\n",
    "    lon1 = lon-lon0\n",
    "    x = lon1 * cos(radians(lat))\n",
    "    y = lat\n",
    "    return x, y\n",
    "```"
   ]
  },
  {
   "cell_type": "markdown",
   "metadata": {},
   "source": [
    "Now we follow a similar procedure as did in the previous project to draw the output. The following is the figure that illustrates the sinusoidal projection with prime meridian as the standard meridian. "
   ]
  },
  {
   "cell_type": "code",
   "execution_count": null,
   "metadata": {
    "tags": []
   },
   "outputs": [],
   "source": [
    "from geom.transforms import transform_sinusoidal\n",
    "\n",
    "points=[]\n",
    "\n",
    "# TODO:\n",
    "#   Use function transform_sinusoidal to project all points in raw_points\n",
    "#   Append the projected points and their line ID's to list point\n",
    "#   code here:\n",
    "\n",
    "\n"
   ]
  },
  {
   "cell_type": "code",
   "execution_count": null,
   "metadata": {
    "tags": []
   },
   "outputs": [],
   "source": [
    "# TODO:\n",
    "#    Draw world map in Sinusoidal projection\n",
    "#    code here\n",
    "\n",
    "\n"
   ]
  },
  {
   "cell_type": "markdown",
   "metadata": {
    "tags": []
   },
   "source": [
    "### Problems with central meridian\n",
    "\n",
    "What happens if we set `lon0` to 60 using our code? It will yield a strange, asymmetrical map. Why? We are not going to answer this in class and this will be one of the questions in the second homework. "
   ]
  },
  {
   "cell_type": "code",
   "execution_count": null,
   "metadata": {
    "tags": []
   },
   "outputs": [],
   "source": [
    "points1=[]\n",
    "for p in raw_points:\n",
    "    p1 = transform_sinusoidal(p[1], p[2], 60) # central meridian at 60\n",
    "    points1.append([p[0], p1[0], p1[1]])\n",
    "\n",
    "_, ax = plt.subplots(1, 1)\n",
    "plot_world(ax, points1, numgraticule, numline)\n",
    "plt.show()"
   ]
  },
  {
   "cell_type": "markdown",
   "metadata": {},
   "source": [
    "### More on equal-area (Tissot's indicatrix)\n",
    "\n",
    "So how do we know the the Sinusoidal projection is equal-area? There are a lot of signs we can tell. For example, we can examine how the graticule looks. There are patterns that an equal area projection should follow (as discussed in many cartography classes) and we can use those to make some educated conclusions. We can also use math to tell. For a project based on a sphere with a unit radius, an equal area projection will have the following property (Snyder 1987, p. 28):\n",
    "\n",
    "$$\n",
    "\\frac{\\partial x}{\\partial \\lambda} \\frac{\\partial y}{\\partial \\varphi} - \\frac{\\partial x}{\\partial \\varphi} \\frac{\\partial y}{\\partial \\lambda} = \\cos\\varphi\n",
    "$$\n",
    "\n",
    "where $\\lambda$ is longitude and $\\varphi$ is latitude.\n",
    "\n",
    "For those who are comfortable with math, we can definitely conclude that the projection is indeed equal area. But what else? We can actually do some more visualization using a device called [Tissot's indicatrix](https://en.wikipedia.org/wiki/Tissot%27s_indicatrix). The idea is to put some infinitely small circles of the same size (mathematically unit size) at different places on the globe and then see how they look after they are projected. The original tool is a mathematically tool (who else would be interested in circles that are infinitely small?), but we can definitely relax it a little bit by using some circles that are more legible. There is a GeoJSON file that contains some circles at our [github geom repo](https://github.com/gisalgs/data/blob/master/tissot.geojson) and we will see how to use it here."
   ]
  },
  {
   "cell_type": "code",
   "execution_count": null,
   "metadata": {
    "tags": []
   },
   "outputs": [],
   "source": [
    "url = 'https://raw.githubusercontent.com/gisalgs/data/master/tissot.geojson'\n",
    "# TODO\n",
    "#\n",
    "#   Read the geojson file from the above url using \n",
    "#   Load everything into a variable called tissots\n",
    "#   Code here:\n"
   ]
  },
  {
   "cell_type": "markdown",
   "metadata": {},
   "source": [
    "Each circle is just a set of systematically generated points that are separated with the same distance on the circle:"
   ]
  },
  {
   "cell_type": "code",
   "execution_count": null,
   "metadata": {
    "scrolled": true,
    "tags": []
   },
   "outputs": [],
   "source": [
    "len(tissots['features'][0]['geometry']['coordinates'][0])"
   ]
  },
  {
   "cell_type": "markdown",
   "metadata": {},
   "source": [
    "We will first put the points on the circle in the same way as we treat the coastlines, but we will start from a new list:"
   ]
  },
  {
   "cell_type": "code",
   "execution_count": null,
   "metadata": {
    "tags": []
   },
   "outputs": [],
   "source": [
    "tissots_raw_points = []\n",
    "\n",
    "tline = 0\n",
    "for f in tissots['features']:\n",
    "    geom = f['geometry']['coordinates']\n",
    "    for p in geom[0]:\n",
    "        tissots_raw_points.append([tline, p[0], p[1]])\n",
    "    tline += 1\n",
    "    \n",
    "tissots_points = []\n",
    "\n",
    "for p in tissots_raw_points:\n",
    "    p1 = transform_sinusoidal(p[1], p[2])\n",
    "    tissots_points.append([p[0], p1[0], p1[1]])\n",
    "\n"
   ]
  },
  {
   "cell_type": "markdown",
   "metadata": {},
   "source": [
    "The following code calls the `plot_world` function first and then add the new lines (circles) onto the same ax. This way, we can draw everything together in one map.We should see all the circles are rendered at relatively the same size, an indication of an equal area projection."
   ]
  },
  {
   "cell_type": "code",
   "execution_count": null,
   "metadata": {
    "tags": []
   },
   "outputs": [],
   "source": [
    "_, ax = plt.subplots(1, 1)\n",
    "plot_world(ax, points, numgraticule, numline, 'darkgrey')\n",
    "\n",
    "for i in range(tline):\n",
    "    col = '#fa5a5a'\n",
    "    pts = [[p[1], p[2]] for p in tissots_points if p[0]==i]\n",
    "    l = plt.Polygon(pts, color=col, fill=False, closed=False)\n",
    "    ax.add_patch(l)\n",
    "    \n",
    "plt.show()"
   ]
  },
  {
   "cell_type": "markdown",
   "metadata": {},
   "source": [
    "If we have some hard time to tell whether the sizes are the same (the are very close though), we can actually calculate the sizes using what we have learned before and print out the sizes. We just need to import a couple of modules first:"
   ]
  },
  {
   "cell_type": "code",
   "execution_count": null,
   "metadata": {
    "tags": []
   },
   "outputs": [],
   "source": [
    "from geom.point import *\n",
    "from geom.centroid import *"
   ]
  },
  {
   "cell_type": "code",
   "execution_count": null,
   "metadata": {
    "tags": []
   },
   "outputs": [],
   "source": [
    "areas = []\n",
    "for f in tissots['features']:\n",
    "    polygon = []\n",
    "    for p in f['geometry']['coordinates'][0]:\n",
    "        p1 = transform_sinusoidal(p[0], p[1])\n",
    "        polygon.append(Point(p1[0], p1[1]))\n",
    "    area, _ = centroid(polygon)\n",
    "    areas.append(area)\n",
    "    \n",
    "# TODO:\n",
    "#   Draw the histogram of the areas of Tissot's indicatrix\n",
    "\n",
    "\n"
   ]
  },
  {
   "cell_type": "markdown",
   "metadata": {},
   "source": [
    "So the numbers are not exactly the same, but they are awfully close. The reason for the slight differences is the circles are not small enough. "
   ]
  },
  {
   "cell_type": "markdown",
   "metadata": {},
   "source": [
    "## Case study 1: making a toy (and bad) projection\n",
    "\n",
    "Let's design a simple but interesting projection. "
   ]
  },
  {
   "cell_type": "code",
   "execution_count": null,
   "metadata": {
    "tags": []
   },
   "outputs": [],
   "source": [
    "def transformx(lon, lat):\n",
    "    x = lon*(90-lat)/90\n",
    "    y = lat\n",
    "    return x, y    "
   ]
  },
  {
   "cell_type": "code",
   "execution_count": null,
   "metadata": {
    "tags": []
   },
   "outputs": [],
   "source": [
    "# TODO\n",
    "#   show the world map using the projection implemented in function transformx\n",
    "#   code here:\n",
    "\n"
   ]
  },
  {
   "cell_type": "markdown",
   "metadata": {},
   "source": [
    "This is very promising in the sense that we have got a project where all the meridian converge at one of the poles. Can we change the formula so that they converge to both poles so that the part of meridian in the southern hemisphere converge to the south pole?"
   ]
  },
  {
   "cell_type": "code",
   "execution_count": null,
   "metadata": {
    "tags": []
   },
   "outputs": [],
   "source": [
    "# TODO\n",
    "#    change (redefine) the transformx function below so that the meridians converge to both poles\n",
    "\n",
    "\n"
   ]
  },
  {
   "cell_type": "code",
   "execution_count": null,
   "metadata": {
    "tags": []
   },
   "outputs": [],
   "source": [
    "# TODO\n",
    "#   project raw_points using the new transformx function\n",
    "\n",
    "\n"
   ]
  },
  {
   "cell_type": "code",
   "execution_count": null,
   "metadata": {
    "tags": []
   },
   "outputs": [],
   "source": [
    "# TODO\n",
    "#    Draw the world map using newly projected points\n",
    "\n"
   ]
  },
  {
   "cell_type": "markdown",
   "metadata": {},
   "source": [
    "Is this an equal area projection? We will once again use the Tissot's indicatrix to visually answer it."
   ]
  },
  {
   "cell_type": "code",
   "execution_count": null,
   "metadata": {
    "tags": []
   },
   "outputs": [],
   "source": [
    "_, ax = plt.subplots(1, 1)\n",
    "plot_world(ax, points, numgraticule, numline)\n",
    "\n",
    "   \n",
    "tissots_points = []\n",
    "\n",
    "for p in tissots_raw_points:\n",
    "    p1 = transformx(p[1], p[2])\n",
    "    tissots_points.append([p[0], p1[0], p1[1]])\n",
    "\n",
    "\n",
    "for i in range(tline):\n",
    "    col = '#fa5a5a'\n",
    "    pts = [[p[1], p[2]] for p in tissots_points if p[0]==i]\n",
    "    l = plt.Polygon(pts, color=col, fill=False, closed=False)\n",
    "    ax.add_patch(l)\n",
    "    \n",
    "plt.show()"
   ]
  },
  {
   "cell_type": "markdown",
   "metadata": {},
   "source": [
    "We should be able to see the transformed \"circles\" (they don't look like circles anymore) have different sizes. However, if we are not sure, we can always calculate the areas of all the transformed circles:"
   ]
  },
  {
   "cell_type": "code",
   "execution_count": null,
   "metadata": {
    "tags": []
   },
   "outputs": [],
   "source": [
    "# TODO:\n",
    "#   Calculate the areas of the circles projected using the new transformx function\n",
    "#   Code here\n",
    "\n",
    "\n"
   ]
  },
  {
   "cell_type": "markdown",
   "metadata": {},
   "source": [
    "## Case study 2: Equal-area revisited\n",
    "\n",
    "Is the sinusoidal project truly preserving the area? How to compute the \"real\" area of a a shape? By real, we mean the size of the shape on earth surface. But we should also be cautious that whatever we calculate is based on a lot of assumptions, such as the model used to represent the earth. Here we assume a perfect sphere, which of course is not what the earth actually is.\n",
    "\n",
    "Here, we are interested in the area of a quadrilateral that is formed by longitudes and latitudes as depicted in the following figure:\n",
    "\n",
    "![](figures/quadarea.gif)  \n",
    "(Source: https://www.mathworks.com/help/map/ref/areaquad.html#bvk_mav)\n",
    "\n",
    "In the above figure, the term quadrangle is used, but we will use a more commonly used term, quadrilateral (on a sphere). Mathematically, the area of a quadrilateral formed by two parallels at *a* and *b* (a<b) and two meridians that differ in *d* is calculated as:\n",
    "\n",
    "$R^2 (\\sin b - \\sin a ) d$\n",
    "\n",
    "where $R$ is the radius of the spherical earth, 6371 KM or 3959 miles. All angles are measured in radians. All the angular measures, *a*, *b*, and *d*, are in radians.\n",
    "\n",
    "Here are some more sources for this topic:\n",
    "\n",
    "- https://www.johndcook.com/blog/2023/02/21/sphere-grid-area/\n",
    "- https://www.pmel.noaa.gov/maillists/tmap/ferret_users/fu_2004/msg00023.html\n",
    "\n",
    "For example, the quadrilateral between latitudes 0 and 10 bound by two meridians differing in 10 degrees has an area calculated as follows:"
   ]
  },
  {
   "cell_type": "code",
   "execution_count": null,
   "metadata": {},
   "outputs": [],
   "source": [
    "6371**2 * (sin(radians(10)) - sin(0)) * radians(10)"
   ]
  },
  {
   "cell_type": "markdown",
   "metadata": {},
   "source": [
    "Now, we create the same quadrilateral in longitudes and latitudes and then transform the points using the sinusoidal projection. The `transform_sinusoidal` assume the radius of the earth is 1. So we will find a way to make sure we get the \"real-world\" coordinates. Recall the equations for the sinusoidal project:\n",
    "\n",
    "$x = \\lambda \\cos(\\varphi_0)$  \n",
    "$y = \\varphi$\n",
    "\n",
    "The value (as in the number) of the Y coordinate from this formula is as same as the latitude. Let's assume the earth is a perfect sphere with a radius or R. When we imagine the earth is flattened into a flat 2-dimensional space, the upper bound of the Y coordinate should be a half of the meridian, or a quarter of the equator. The circumference of the earth is $2 \\pi R$, and therefore when the latitude $\\varphi$ is 90, Y should be $\\frac{1}{2} \\pi R$. If latitude is measured in radians, then the north pole is $\\frac{1}{2} \\pi$ and its latitude, after transformed, is exactly $\\frac{1}{2} \\pi R$, which means if we multiply the earth radius with $\\varphi$ (again, measured in radians). The same thing can be said for the longitude. So by simply scaling both the X and Y coordinates in the formula with the earth radius, we will get X and Y in \"real-world\" measures instead of just a generic number:\n",
    "\n",
    "$x = R \\lambda \\cos(\\varphi_0)$  \n",
    "$y = R \\varphi$\n",
    "\n",
    "If the longitude and latitude are measured in degrees, then we will simply figure out the length of each degree on a great circle (such as the equator) and multiply that with the degree. Below we calculate the length of a degree in kilometer, but we can easy use the statute miles if needed. "
   ]
  },
  {
   "cell_type": "code",
   "execution_count": null,
   "metadata": {},
   "outputs": [],
   "source": [
    "# the size of the earth as a sphere with the same surface area of the ellipsoid\n",
    "# radius = 3959 # miles\n",
    "radius = 6371 # km\n",
    "circumference = 2 * pi * radius \n",
    "degreelength = circumference/360\n",
    "degreelength"
   ]
  },
  {
   "cell_type": "markdown",
   "metadata": {},
   "source": [
    "We should note that **111** is a number worth memorizing: it is the length of a degree in kilometer on the equator or any meridian. But the length of a degree longitude decreases from 111 to 0 when we go from the equator to the poles.\n",
    "\n",
    "Now we get the quadrilateral and calculate the size. We calculate the size using our `centroid` function that computes the area of a closed polygon. It should be noted that the `transform_sinusoidal` doesn't consider the earth radius, nor the unit (radians or degree) of the coordinates. So it is our job to make sure we know the units and how to scale the coordinates. Below is an example of scaling the coordinates into kilometers. "
   ]
  },
  {
   "cell_type": "code",
   "execution_count": null,
   "metadata": {},
   "outputs": [],
   "source": [
    "qaudrilateral = [ [0, 0], [0, 10], [-10,10], [-10, 0], [0, 0] ]\n",
    "qaudrilateral = [ Point(p[0], p[1]) for p in qaudrilateral ]\n",
    "\n",
    "coordinates1 = [transform_sinusoidal(p[0], p[1]) for p in qaudrilateral]\n",
    "coordinates1 = [Point(degreelength*p[0], degreelength*p[1]) for p in coordinates1]\n",
    "\n",
    "centroid(coordinates1)"
   ]
  },
  {
   "cell_type": "markdown",
   "metadata": {},
   "source": [
    "We note this size is slightly smaller than what we got above using the math. In practice, if this is all the points we get, we will accept the result and acknowledge that the result may have problems because lines with certain curvature may have been generalized to straight lines. \n",
    "\n",
    "However, let's push the envelope a little further here to develop some deep understanding of the nuances of spatial data -- let's call this the hardcore of spatial data science! \n",
    "\n",
    "The slight difference we observed above is due to the fact that we treat the meridians as straight lines instead of curves. If we add one more point on each of the two meridians (`[0, 5]` and `[-10, 5]`), we are going to get a number that is closer to the true size:"
   ]
  },
  {
   "cell_type": "code",
   "execution_count": null,
   "metadata": {},
   "outputs": [],
   "source": [
    "qaudrilateral = [ [0, 0], [0, 5], [0, 10], [-10,10], [-10, 5], [-10, 0], [0, 0] ]\n",
    "qaudrilateral = [ Point(p[0], p[1]) for p in qaudrilateral ]\n",
    "\n",
    "coordinates1 = [transform_sinusoidal(p[0], p[1]) for p in qaudrilateral]\n",
    "coordinates1 = [Point(degreelength*p[0], degreelength*p[1]) for p in coordinates1]\n",
    "\n",
    "centroid(coordinates1)"
   ]
  },
  {
   "cell_type": "markdown",
   "metadata": {},
   "source": [
    "If we continuously add more points, we will get closer and closer to the true curve and the area should be closer and closer to what we got using the formula (the true area if we assume a perfect sphere). To do this, we write a function to help us get a quadrilateral with the precision (increment of degree on the sides) we want:"
   ]
  },
  {
   "cell_type": "code",
   "execution_count": null,
   "metadata": {},
   "outputs": [],
   "source": [
    "def make_quadrilateral(lon, lat, length=10, increment=0.01):\n",
    "    '''\n",
    "    Create a quadrilateral using the lon and lat as the starting point at the lower-right corner (south-east). \n",
    "    The polygon goes counterclockwise. Going north first then west then south then east back to the south-east corner.\n",
    "\n",
    "    INPUT\n",
    "        lon - the longitude of the south-east corner of the quad\n",
    "        lat - the latitude\n",
    "        length - the length, in degree, of the sides\n",
    "        increment - the increment, in degree, of the points along the sides\n",
    "\n",
    "    OUTPUT\n",
    "        A list of Point objects. The last point is as same as the first.\n",
    "    '''\n",
    "    if lat+length > 90:\n",
    "        raise Exception('lat+length>90')\n",
    "    startss = [lat,        lon,        lat+length, lon-length] # the starting value of each side\n",
    "    reaches = [lat+length, lon-length, lat,        lon]\n",
    "    sameval = [lon,        lat+length, lon-length, lat] # the coordinate (lat or lon) keeps the same when along a side\n",
    "    coords = []\n",
    "    for i in range(4):\n",
    "        v = startss[i]\n",
    "        if i==0 or i==3:\n",
    "            increment = abs(increment)\n",
    "        else:\n",
    "            increment = -abs(increment)\n",
    "        num = abs(int(length/increment))\n",
    "        for j in range(num):\n",
    "        # while v != reaches[i]:\n",
    "            # print(v)\n",
    "            if i%2 == 0: # same lon\n",
    "                coord = [sameval[i], v]\n",
    "            else:        # same lat\n",
    "                coord = [v, sameval[i]]\n",
    "            coords.append(coord)\n",
    "            v += increment\n",
    "    coords.append([lon, lat])\n",
    "    return coords\n",
    "\n",
    "coords = make_quadrilateral(0, 0, 10, 5)\n",
    "coords"
   ]
  },
  {
   "cell_type": "markdown",
   "metadata": {},
   "source": [
    "For example, let's create a quadrilateral with increment of 0.01 and see what we get:"
   ]
  },
  {
   "cell_type": "code",
   "execution_count": null,
   "metadata": {},
   "outputs": [],
   "source": [
    "quad = [ Point(p[0], p[1]) for p in make_quadrilateral(0, 0, 10, 0.01) ]\n",
    "\n",
    "quad = [transform_sinusoidal(p[0], p[1]) for p in quad]\n",
    "quad = [Point(degreelength*p[0], degreelength*p[1]) for p in quad]\n",
    "\n",
    "centroid(quad)"
   ]
  },
  {
   "cell_type": "markdown",
   "metadata": {},
   "source": [
    "This should give us extremely close to we had before: 1230163.4172191652.\n",
    "\n",
    "The following code shows us how our result approximates the \"true\" size when we increase the number of the points between the two ends on each side:"
   ]
  },
  {
   "cell_type": "code",
   "execution_count": null,
   "metadata": {},
   "outputs": [],
   "source": [
    "delta = [10, 5, 1, 0.5, 0.2, 0.1]\n",
    "\n",
    "areas = []\n",
    "for d in delta:\n",
    "    quad = [ Point(p[0], p[1]) for p in make_quadrilateral(0, 0, 10, d) ]\n",
    "    quad = [transform_sinusoidal(p[0], p[1]) for p in quad]\n",
    "    quad = [Point(degreelength*p[0], degreelength*p[1]) for p in quad]\n",
    "    a = centroid(quad)[0]\n",
    "    areas.append(a)\n",
    "\n",
    "# plot area vs. number of points on each side\n",
    "\n",
    "ax, _ = plt.subplots()\n",
    "plt.plot([10/d for d in delta], areas)\n",
    "plt.show()"
   ]
  },
  {
   "cell_type": "markdown",
   "metadata": {},
   "source": [
    "To wrap up, we should be confident that our projection functions do perform what they are supposed to. With an equal-area projection method, we are able to calculate the actual size of an area defined as a polygon. "
   ]
  }
 ],
 "metadata": {
  "kernelspec": {
   "display_name": "Python 3 (ipykernel)",
   "language": "python",
   "name": "python3"
  },
  "language_info": {
   "codemirror_mode": {
    "name": "ipython",
    "version": 3
   },
   "file_extension": ".py",
   "mimetype": "text/x-python",
   "name": "python",
   "nbconvert_exporter": "python",
   "pygments_lexer": "ipython3",
   "version": "3.12.6"
  }
 },
 "nbformat": 4,
 "nbformat_minor": 4
}
